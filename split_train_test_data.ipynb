{
 "cells": [
  {
   "cell_type": "code",
   "execution_count": 85,
   "metadata": {},
   "outputs": [],
   "source": [
    "import matplotlib.pyplot as plt\n",
    "import tensorflow as tf\n",
    "import os\n",
    "import cv2\n",
    "import numpy as np\n",
    "from sklearn.preprocessing import LabelBinarizer\n",
    "from sklearn.model_selection import train_test_split"
   ]
  },
  {
   "cell_type": "markdown",
   "metadata": {},
   "source": [
    "*Directory Management*"
   ]
  },
  {
   "cell_type": "code",
   "execution_count": 113,
   "metadata": {},
   "outputs": [],
   "source": [
    "#**********Original Data location *****************\n",
    "ori_data_path='Data_Preprocessing/data_all_original'\n",
    "\n",
    "#Fe_Fi\n",
    "DirFeFi_classFe = ori_data_path+'/Fe_Fi/Ferromagnetic'\n",
    "DirFeFi_classFi = ori_data_path+'/Fe_Fi/Ferrimagnetic'\n",
    "\n",
    "#Fe_NM\n",
    "DirFeNM_classFe = ori_data_path+'/Fe_NM/Ferromagnetic'\n",
    "DirFeNM_classNM = ori_data_path+'/Fe_NM/Non_Magnetic'\n",
    "\n",
    "#Fe_Fi_NM\n",
    "DirFeFiNM_classFe = ori_data_path+'/Fe_Fi_NM/Ferromagnetic'\n",
    "DirFeFiNM_classFi = ori_data_path+'/Fe_Fi_NM/Ferrimagnetic'\n",
    "DirFeFiNM_classNM = ori_data_path+'/Fe_Fi_NM/Non_Magnetic'\n",
    "\n",
    "#*******************************************************\n",
    "\n",
    "#*************Data Split Location**********************\n",
    "#Split Destination Copy\n",
    "main_split_path='Data_Preprocessing/data_split_original'\n",
    "\n",
    "#Testing Dir\n",
    "main_testing_data_path=main_split_path+'/testing_data'\n",
    "\n",
    "#Fe_Fi\n",
    "fe_fi_testing_fe_data_path=main_testing_data_path+'/Fe_Fi/class_fe/Ferromagnetic'\n",
    "fe_fi_testing_fi_data_path=main_testing_data_path+'/Fe_Fi/class_fi/Ferrimagnetic'\n",
    "\n",
    "#Fe_NM\n",
    "fe_nm_testing_fe_data_path=main_testing_data_path+'/Fe_NM/class_fe/Ferromagnetic'\n",
    "fe_nm_testing_nm_data_path=main_testing_data_path+'/Fe_NM/class_nm/Non_Magnetic'\n",
    "\n",
    "#Fe_Fi_NM\n",
    "fe_fi_nm_testing_fe_data_path=main_testing_data_path+'/Fe_Fi_NM/class_fe/Ferromagnetic'\n",
    "fe_fi_nm_testing_fi_data_path=main_testing_data_path+'/Fe_Fi_NM/class_fi/Ferrimagnetic'\n",
    "fe_fi_nm_testing_nm_data_path=main_testing_data_path+'/Fe_Fi_NM/class_nm/Non_Magnetic'\n",
    "\n",
    "\n",
    "#Training Dir\n",
    "main_training_data_path=main_split_path+'/training_data'\n",
    "\n",
    "#Fe_Fi\n",
    "fe_fi_training_fe_data_path=main_training_data_path+'/Fe_Fi/class_fe/Ferromagnetic'\n",
    "fe_fi_training_fi_data_path=main_training_data_path+'/Fe_Fi/class_fi/Ferrimagnetic'\n",
    "\n",
    "#Fe_Fi_NM\n",
    "fe_nm_training_fe_data_path=main_training_data_path+'/Fe_NM/class_fe/Ferromagnetic'\n",
    "fe_nm_training_nm_data_path=main_training_data_path+'/Fe_NM/class_nm/Non_Magnetic'\n",
    "\n",
    "#Fe_Fi_NM\n",
    "fe_fi_nm_training_fe_data_path=main_training_data_path+'/Fe_Fi_NM/class_fe/Ferromagnetic'\n",
    "fe_fi_nm_training_fi_data_path=main_training_data_path+'/Fe_Fi_NM/class_fi/Ferrimagnetic'\n",
    "fe_fi_nm_training_nm_data_path=main_training_data_path+'/Fe_Fi_NM/class_nm/Non_Magnetic'"
   ]
  },
  {
   "cell_type": "markdown",
   "metadata": {},
   "source": [
    "Creating Training-Testing data"
   ]
  },
  {
   "cell_type": "code",
   "execution_count": 114,
   "metadata": {},
   "outputs": [],
   "source": [
    "import random\n",
    "import shutil \n",
    "random.seed(10)"
   ]
  },
  {
   "cell_type": "markdown",
   "metadata": {},
   "source": [
    "*Fe_Fi: Ferromagnetic*"
   ]
  },
  {
   "cell_type": "code",
   "execution_count": null,
   "metadata": {},
   "outputs": [
    {
     "name": "stdout",
     "output_type": "stream",
     "text": [
      "num file fe: 33\n"
     ]
    }
   ],
   "source": [
    "source=DirFeFi_classFe\n",
    "\n",
    "test_size=0.25\n",
    "dir_list = os.listdir(source) \n",
    "nfile=int(test_size*len(dir_list))\n",
    "\n",
    "r25=[]\n",
    "for i in range(0,nfile):\n",
    "    r = random.randint(0, len(dir_list))\n",
    "    r25.append(r)\n",
    "\n",
    "r75=[]\n",
    "for i in range(0,len(dir_list)):\n",
    "    if i not in r25:\n",
    "        r75.append(i)\n"
   ]
  },
  {
   "cell_type": "code",
   "execution_count": null,
   "metadata": {},
   "outputs": [
    {
     "name": "stdout",
     "output_type": "stream",
     "text": [
      "Jumlah copy testing: 33\n"
     ]
    }
   ],
   "source": [
    "testing_destination_path=fe_fi_testing_fe_data_path\n",
    "training_destination_path=fe_fi_training_fe_data_path\n",
    "\n",
    "#Creating testing data \n",
    "for i in r25:\n",
    "    shutil.copyfile(source+'/'+dir_list[i], testing_destination_path+'/'+dir_list[i]) \n",
    "\n",
    "#Creating training data \n",
    "for i in r75:\n",
    "    shutil.copyfile(source+'/'+dir_list[i], training_destination_path+'/'+dir_list[i]) \n"
   ]
  },
  {
   "cell_type": "code",
   "execution_count": 117,
   "metadata": {},
   "outputs": [],
   "source": [
    "random.seed(10)"
   ]
  },
  {
   "cell_type": "markdown",
   "metadata": {},
   "source": [
    "*Fe_Fi: Ferrimagnetic*"
   ]
  },
  {
   "cell_type": "code",
   "execution_count": 118,
   "metadata": {},
   "outputs": [],
   "source": [
    "source=DirFeFi_classFi\n",
    "\n",
    "test_size=0.25\n",
    "dir_list = os.listdir(source) \n",
    "nfile=int(test_size*len(dir_list))\n",
    "\n",
    "r25=[]\n",
    "for i in range(0,nfile):\n",
    "    r = random.randint(0, len(dir_list))\n",
    "    r25.append(r)\n",
    "\n",
    "r75=[]\n",
    "for i in range(0,len(dir_list)):\n",
    "    if i not in r25:\n",
    "        r75.append(i)\n"
   ]
  },
  {
   "cell_type": "code",
   "execution_count": null,
   "metadata": {},
   "outputs": [],
   "source": [
    "testing_destination_path=fe_fi_testing_fi_data_path\n",
    "training_destination_path=fe_fi_training_fi_data_path\n",
    "\n",
    "#Creating testing data \n",
    "for i in r25:\n",
    "    shutil.copyfile(source+'/'+dir_list[i], testing_destination_path+'/'+dir_list[i]) \n",
    "\n",
    "#Creating training data \n",
    "for i in r75:\n",
    "    shutil.copyfile(source+'/'+dir_list[i], training_destination_path+'/'+dir_list[i]) \n"
   ]
  },
  {
   "cell_type": "code",
   "execution_count": 121,
   "metadata": {},
   "outputs": [],
   "source": [
    "random.seed(10)"
   ]
  },
  {
   "cell_type": "markdown",
   "metadata": {},
   "source": [
    "*Fe_NM: Ferromagnetic*"
   ]
  },
  {
   "cell_type": "code",
   "execution_count": 122,
   "metadata": {},
   "outputs": [],
   "source": [
    "source=DirFeNM_classFe\n",
    "\n",
    "test_size=0.25\n",
    "dir_list = os.listdir(source) \n",
    "nfile=int(test_size*len(dir_list))\n",
    "\n",
    "r25=[]\n",
    "for i in range(0,nfile):\n",
    "    r = random.randint(0, len(dir_list))\n",
    "    r25.append(r)\n",
    "\n",
    "r75=[]\n",
    "for i in range(0,len(dir_list)):\n",
    "    if i not in r25:\n",
    "        r75.append(i)\n"
   ]
  },
  {
   "cell_type": "code",
   "execution_count": 123,
   "metadata": {},
   "outputs": [],
   "source": [
    "testing_destination_path=fe_nm_testing_fe_data_path\n",
    "training_destination_path=fe_nm_training_fe_data_path\n",
    "\n",
    "#Creating testing data \n",
    "for i in r25:\n",
    "    shutil.copyfile(source+'/'+dir_list[i], testing_destination_path+'/'+dir_list[i]) \n",
    "\n",
    "#Creating training data \n",
    "for i in r75:\n",
    "    shutil.copyfile(source+'/'+dir_list[i], training_destination_path+'/'+dir_list[i]) \n"
   ]
  },
  {
   "cell_type": "code",
   "execution_count": 124,
   "metadata": {},
   "outputs": [],
   "source": [
    "random.seed(10)"
   ]
  },
  {
   "cell_type": "markdown",
   "metadata": {},
   "source": [
    "*Fe_NM: Non_Magnetic*"
   ]
  },
  {
   "cell_type": "code",
   "execution_count": 125,
   "metadata": {},
   "outputs": [],
   "source": [
    "source=DirFeNM_classNM\n",
    "\n",
    "test_size=0.25\n",
    "dir_list = os.listdir(source) \n",
    "nfile=int(test_size*len(dir_list))\n",
    "\n",
    "r25=[]\n",
    "for i in range(0,nfile):\n",
    "    r = random.randint(0, len(dir_list))\n",
    "    r25.append(r)\n",
    "\n",
    "r75=[]\n",
    "for i in range(0,len(dir_list)):\n",
    "    if i not in r25:\n",
    "        r75.append(i)\n"
   ]
  },
  {
   "cell_type": "code",
   "execution_count": 126,
   "metadata": {},
   "outputs": [],
   "source": [
    "testing_destination_path=fe_nm_testing_nm_data_path\n",
    "training_destination_path=fe_nm_training_nm_data_path\n",
    "\n",
    "#Creating testing data \n",
    "for i in r25:\n",
    "    shutil.copyfile(source+'/'+dir_list[i], testing_destination_path+'/'+dir_list[i]) \n",
    "\n",
    "#Creating training data \n",
    "for i in r75:\n",
    "    shutil.copyfile(source+'/'+dir_list[i], training_destination_path+'/'+dir_list[i]) \n"
   ]
  },
  {
   "cell_type": "code",
   "execution_count": 127,
   "metadata": {},
   "outputs": [],
   "source": [
    "random.seed(10)"
   ]
  },
  {
   "cell_type": "markdown",
   "metadata": {},
   "source": [
    "*Fe_Fi_NM: Ferromagnetic*"
   ]
  },
  {
   "cell_type": "code",
   "execution_count": 128,
   "metadata": {},
   "outputs": [],
   "source": [
    "source=DirFeFiNM_classFe\n",
    "\n",
    "test_size=0.25\n",
    "dir_list = os.listdir(source) \n",
    "nfile=int(test_size*len(dir_list))\n",
    "\n",
    "r25=[]\n",
    "for i in range(0,nfile):\n",
    "    r = random.randint(0, len(dir_list))\n",
    "    r25.append(r)\n",
    "\n",
    "r75=[]\n",
    "for i in range(0,len(dir_list)):\n",
    "    if i not in r25:\n",
    "        r75.append(i)\n"
   ]
  },
  {
   "cell_type": "code",
   "execution_count": 129,
   "metadata": {},
   "outputs": [],
   "source": [
    "testing_destination_path=fe_fi_nm_testing_fe_data_path\n",
    "training_destination_path=fe_fi_nm_training_fe_data_path\n",
    "\n",
    "#Creating testing data \n",
    "for i in r25:\n",
    "    shutil.copyfile(source+'/'+dir_list[i], testing_destination_path+'/'+dir_list[i]) \n",
    "\n",
    "#Creating training data \n",
    "for i in r75:\n",
    "    shutil.copyfile(source+'/'+dir_list[i], training_destination_path+'/'+dir_list[i]) \n"
   ]
  },
  {
   "cell_type": "code",
   "execution_count": 130,
   "metadata": {},
   "outputs": [],
   "source": [
    "random.seed(10)"
   ]
  },
  {
   "cell_type": "markdown",
   "metadata": {},
   "source": [
    "*Fe_Fi_NM: Ferrimagnetic*"
   ]
  },
  {
   "cell_type": "code",
   "execution_count": 131,
   "metadata": {},
   "outputs": [],
   "source": [
    "source=DirFeFiNM_classFi\n",
    "\n",
    "test_size=0.25\n",
    "dir_list = os.listdir(source) \n",
    "nfile=int(test_size*len(dir_list))\n",
    "\n",
    "r25=[]\n",
    "for i in range(0,nfile):\n",
    "    r = random.randint(0, len(dir_list))\n",
    "    r25.append(r)\n",
    "\n",
    "r75=[]\n",
    "for i in range(0,len(dir_list)):\n",
    "    if i not in r25:\n",
    "        r75.append(i)\n"
   ]
  },
  {
   "cell_type": "code",
   "execution_count": 132,
   "metadata": {},
   "outputs": [],
   "source": [
    "testing_destination_path=fe_fi_nm_testing_fi_data_path\n",
    "training_destination_path=fe_fi_nm_training_fi_data_path\n",
    "\n",
    "#Creating testing data \n",
    "for i in r25:\n",
    "    shutil.copyfile(source+'/'+dir_list[i], testing_destination_path+'/'+dir_list[i]) \n",
    "\n",
    "#Creating training data \n",
    "for i in r75:\n",
    "    shutil.copyfile(source+'/'+dir_list[i], training_destination_path+'/'+dir_list[i]) \n"
   ]
  },
  {
   "cell_type": "code",
   "execution_count": 133,
   "metadata": {},
   "outputs": [],
   "source": [
    "random.seed(10)"
   ]
  },
  {
   "cell_type": "markdown",
   "metadata": {},
   "source": [
    "*Fe_Fi_NM: Non_Magnetic*"
   ]
  },
  {
   "cell_type": "code",
   "execution_count": 134,
   "metadata": {},
   "outputs": [],
   "source": [
    "source=DirFeFiNM_classNM\n",
    "\n",
    "test_size=0.25\n",
    "dir_list = os.listdir(source) \n",
    "nfile=int(test_size*len(dir_list))\n",
    "\n",
    "r25=[]\n",
    "for i in range(0,nfile):\n",
    "    r = random.randint(0, len(dir_list))\n",
    "    r25.append(r)\n",
    "\n",
    "r75=[]\n",
    "for i in range(0,len(dir_list)):\n",
    "    if i not in r25:\n",
    "        r75.append(i)\n"
   ]
  },
  {
   "cell_type": "code",
   "execution_count": 135,
   "metadata": {},
   "outputs": [],
   "source": [
    "testing_destination_path=fe_fi_nm_testing_nm_data_path\n",
    "training_destination_path=fe_fi_nm_training_nm_data_path\n",
    "\n",
    "#Creating testing data \n",
    "for i in r25:\n",
    "    shutil.copyfile(source+'/'+dir_list[i], testing_destination_path+'/'+dir_list[i]) \n",
    "\n",
    "#Creating training data \n",
    "for i in r75:\n",
    "    shutil.copyfile(source+'/'+dir_list[i], training_destination_path+'/'+dir_list[i]) \n"
   ]
  }
 ],
 "metadata": {
  "kernelspec": {
   "display_name": "venv",
   "language": "python",
   "name": "python3"
  },
  "language_info": {
   "codemirror_mode": {
    "name": "ipython",
    "version": 3
   },
   "file_extension": ".py",
   "mimetype": "text/x-python",
   "name": "python",
   "nbconvert_exporter": "python",
   "pygments_lexer": "ipython3",
   "version": "3.9.10"
  }
 },
 "nbformat": 4,
 "nbformat_minor": 2
}
