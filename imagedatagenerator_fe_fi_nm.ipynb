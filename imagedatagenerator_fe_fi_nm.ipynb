{
 "cells": [
  {
   "cell_type": "code",
   "execution_count": null,
   "metadata": {},
   "outputs": [],
   "source": [
    "import matplotlib.pyplot as plt\n",
    "import tensorflow as tf\n",
    "import os\n",
    "import cv2\n",
    "import numpy as np\n",
    "from sklearn.preprocessing import LabelEncoder\n",
    "from sklearn.model_selection import train_test_split\n"
   ]
  },
  {
   "cell_type": "code",
   "execution_count": null,
   "metadata": {},
   "outputs": [],
   "source": [
    "target_size=128\n",
    "batch_size=8\n",
    "\n",
    "main_data_path='Data_Preprocessing/data_all/Fe_Fi_NM'\n",
    "\n",
    "#Original Data location\n",
    "DataFeFiNM_classFe = main_data_path+'/class_fe'\n",
    "DataFeFiNM_classFi = main_data_path+'/class_fi'\n",
    "DataFeFiNM_classNM = main_data_path+'/class_nm'\n",
    "\n",
    "#Randomly transformed data location\n",
    "save_dir_DataFeFiNM_classFe=main_data_path+'/Ferromagnetic'\n",
    "save_dir_DataFeFiNM_classFi=main_data_path+'/Ferrimagnetic'\n",
    "save_dir_DataFeFiNM_classNM=main_data_path+'/Non_Magnetic'"
   ]
  },
  {
   "cell_type": "code",
   "execution_count": null,
   "metadata": {},
   "outputs": [],
   "source": [
    "def transform_data(DataLocation,TransformedDataLocation,batch_size,target_size):\n",
    "    datagen = tf.keras.preprocessing.image.ImageDataGenerator(rescale = 1/255.,\n",
    "                                                            width_shift_range=0.01,\n",
    "                                                            height_shift_range=0.01,\n",
    "                                                            shear_range=0.1,\n",
    "                                                            zoom_range=0.1,\n",
    "                                                            horizontal_flip=True,\n",
    "                                                            vertical_flip=True\n",
    "                                                                    )\n",
    "    data_all = datagen.flow_from_directory(DataLocation , \n",
    "                                            target_size=(target_size,target_size),\n",
    "                                            batch_size= batch_size,\n",
    "                                            color_mode='grayscale',\n",
    "                                            seed=None,\n",
    "                                            shuffle=True,\n",
    "                                            class_mode='binary',\n",
    "                                            save_to_dir=TransformedDataLocation)\n",
    "    \n",
    "    #transformed data is generated each time data_all is called \n",
    "    total=0\n",
    "    for image in data_all:\n",
    "        total +=1\n",
    "        if total >data_all.num_batches*10: #10 times larger size than original size\n",
    "            break\n",
    "    print(f'About {data_all.samples*10} randomly transformed data located in {TransformedDataLocation}')\n",
    "    return data_all\n"
   ]
  },
  {
   "cell_type": "markdown",
   "metadata": {},
   "source": [
    "*Transform Ferromagnetic DOS Image*"
   ]
  },
  {
   "cell_type": "code",
   "execution_count": null,
   "metadata": {},
   "outputs": [],
   "source": [
    "data_all=transform_data(DataFeFiNM_classFe,save_dir_DataFeFiNM_classFe,batch_size,target_size)"
   ]
  },
  {
   "cell_type": "markdown",
   "metadata": {},
   "source": [
    "*Transform Ferrimagnetic DOS Image*"
   ]
  },
  {
   "cell_type": "code",
   "execution_count": null,
   "metadata": {},
   "outputs": [],
   "source": [
    "data_all=transform_data(DataFeFiNM_classFi,save_dir_DataFeFiNM_classFi,batch_size,target_size)"
   ]
  },
  {
   "cell_type": "markdown",
   "metadata": {},
   "source": [
    "*Transform Non-Magnetic DOS Image*"
   ]
  },
  {
   "cell_type": "code",
   "execution_count": null,
   "metadata": {},
   "outputs": [],
   "source": [
    "data_all=transform_data(DataFeFiNM_classNM,save_dir_DataFeFiNM_classNM,batch_size,target_size)"
   ]
  },
  {
   "cell_type": "code",
   "execution_count": 137,
   "metadata": {},
   "outputs": [],
   "source": [
    "dir_list = os.listdir(main_data_path) \n",
    "LABELS=['Ferrimagnetic','Ferromagnetic','Non_Magnetic']\n",
    "data=[]\n",
    "labels=[]\n",
    "for label in dir_list:\n",
    "    if label in LABELS:\n",
    "        all_image_path=main_data_path+'/'+label\n",
    "        for imagefile in os.listdir(all_image_path):\n",
    "            imagepath=all_image_path+'/'+imagefile\n",
    "            image = cv2.imread(imagepath,cv2.IMREAD_GRAYSCALE)\n",
    "            data.append(image)\n",
    "            labels.append(label)"
   ]
  },
  {
   "cell_type": "code",
   "execution_count": 138,
   "metadata": {},
   "outputs": [],
   "source": [
    "data = np.array(data, dtype=\"float\") / 255.0\n",
    "\n",
    "# encode class values as integers\n",
    "encoder = LabelEncoder()\n",
    "encoder.fit(labels)\n",
    "labels_ = encoder.transform(labels)\n",
    "labels__=tf.keras.utils.to_categorical(labels_)"
   ]
  },
  {
   "cell_type": "code",
   "execution_count": null,
   "metadata": {},
   "outputs": [],
   "source": [
    "train_test_split_dir='Data_Preprocessing/data_train_test_split/Fe_Fi_NM'\n",
    "(trainX, testX, trainY, testY) = train_test_split(data, labels__,\n",
    "\ttest_size=0.25, stratify=labels, random_state=42)\n",
    "trainX=trainX.reshape(trainX.shape[0],target_size,target_size,1)\n",
    "testX=testX.reshape(testX.shape[0],target_size,target_size,1)\n",
    "np.save(train_test_split_dir+'/trainX',trainX)\n",
    "np.save(train_test_split_dir+'/trainY',trainY)\n",
    "np.save(train_test_split_dir+'/testX',testX)\n",
    "np.save(train_test_split_dir+'/testY',testY)"
   ]
  }
 ],
 "metadata": {
  "kernelspec": {
   "display_name": "venv",
   "language": "python",
   "name": "python3"
  },
  "language_info": {
   "codemirror_mode": {
    "name": "ipython",
    "version": 3
   },
   "file_extension": ".py",
   "mimetype": "text/x-python",
   "name": "python",
   "nbconvert_exporter": "python",
   "pygments_lexer": "ipython3",
   "version": "3.9.10"
  }
 },
 "nbformat": 4,
 "nbformat_minor": 2
}
