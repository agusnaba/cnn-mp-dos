{
 "cells": [
  {
   "cell_type": "code",
   "execution_count": null,
   "metadata": {},
   "outputs": [],
   "source": [
    "import tensorflow as tf\n",
    "import os\n",
    "import cv2\n",
    "import numpy as np\n",
    "from sklearn.preprocessing import LabelBinarizer\n",
    "from sklearn.model_selection import train_test_split"
   ]
  },
  {
   "cell_type": "code",
   "execution_count": 2,
   "metadata": {},
   "outputs": [
    {
     "data": {
      "text/plain": [
       "<keras.src.initializers.random_initializers.GlorotNormal at 0x1454294dfa0>"
      ]
     },
     "execution_count": 2,
     "metadata": {},
     "output_type": "execute_result"
    }
   ],
   "source": [
    "seed=42\n",
    "tf.config.experimental.enable_op_determinism()\n",
    "tf.random.set_seed(seed)\n",
    "tf.keras.utils.set_random_seed(seed)\n",
    "tf.keras.initializers.GlorotNormal(seed)"
   ]
  },
  {
   "cell_type": "code",
   "execution_count": null,
   "metadata": {},
   "outputs": [],
   "source": [
    "target_size=128\n",
    "batch_size=8\n",
    "\n",
    "ori_fe_nm_data_path='Data_Preprocessing/data_split_original/training_data/Fe_NM'\n",
    "imagedatagenerator_path='Data_Preprocessing/data_by_imagedatagenerator/training_data/Fe_NM'\n",
    "\n",
    "#Original Data location\n",
    "DataFeNM_classFe = ori_fe_nm_data_path+'/class_fe'\n",
    "DataFeNM_classNM = ori_fe_nm_data_path+'/class_nm'\n",
    "\n",
    "#Randomly transformed data location\n",
    "save_dir_DataFeNM_classFe=imagedatagenerator_path+'/Ferromagnetic'\n",
    "save_dir_DataFeNM_classNM=imagedatagenerator_path+'/Non_Magnetic'"
   ]
  },
  {
   "cell_type": "code",
   "execution_count": 4,
   "metadata": {},
   "outputs": [],
   "source": [
    "def transform_data(DataLocation,TransformedDataLocation,batch_size,target_size):\n",
    "    datagen = tf.keras.preprocessing.image.ImageDataGenerator(rescale = 1/255.,\n",
    "                                                            width_shift_range=0.01,\n",
    "                                                            height_shift_range=0.01,\n",
    "                                                            shear_range=0.1,\n",
    "                                                            zoom_range=0.1,\n",
    "                                                            horizontal_flip=True,\n",
    "                                                            vertical_flip=True\n",
    "                                                                    )\n",
    "    data_all = datagen.flow_from_directory(DataLocation , \n",
    "                                            target_size=(target_size,target_size), #Resizing\n",
    "                                            batch_size= batch_size,\n",
    "                                            color_mode='grayscale',\n",
    "                                            seed=None,\n",
    "                                            shuffle=True,\n",
    "                                            class_mode='binary',\n",
    "                                            save_to_dir=TransformedDataLocation)\n",
    "    \n",
    "    #transformed data is generated each time data_all is called \n",
    "    total=0\n",
    "    for image in data_all:\n",
    "        total +=1\n",
    "        if total >data_all.num_batches*10: #10 times larger size than original size\n",
    "            break\n",
    "    print(f'{len(os.listdir(TransformedDataLocation)) } randomly transformed data located in {TransformedDataLocation}')\n",
    "    return data_all\n"
   ]
  },
  {
   "cell_type": "code",
   "execution_count": null,
   "metadata": {},
   "outputs": [],
   "source": [
    "def testing_data(DataLocation,TransformedDataLocation,batch_size,target_size):\n",
    "    datagen = tf.keras.preprocessing.image.ImageDataGenerator(rescale = 1/255.)\n",
    "    data_all = datagen.flow_from_directory(DataLocation , \n",
    "                                            target_size=(target_size,target_size), #Resizing\n",
    "                                            batch_size= batch_size,\n",
    "                                            class_mode='binary',\n",
    "                                            save_to_dir=TransformedDataLocation)\n",
    "    \n",
    "    #transformed data is generated each time data_all is called \n",
    "    for image in data_all:\n",
    "            break\n",
    "    print(f'{len(os.listdir(TransformedDataLocation)) } randomly transformed data located in {TransformedDataLocation}')\n",
    "    return data_all"
   ]
  },
  {
   "cell_type": "markdown",
   "metadata": {},
   "source": [
    "*Transform Ferromagnetic DOS Image*"
   ]
  },
  {
   "cell_type": "code",
   "execution_count": 6,
   "metadata": {},
   "outputs": [
    {
     "name": "stdout",
     "output_type": "stream",
     "text": [
      "Found 110 images belonging to 1 classes.\n"
     ]
    },
    {
     "name": "stdout",
     "output_type": "stream",
     "text": [
      "1108 randomly transformed data located in Data_Preprocessing/data_by_imagedatagenerator/Fe_NM/Ferromagnetic\n"
     ]
    }
   ],
   "source": [
    "data_all=transform_data(DataFeNM_classFe,save_dir_DataFeNM_classFe,batch_size,target_size)"
   ]
  },
  {
   "cell_type": "markdown",
   "metadata": {},
   "source": [
    "*Transform Non-Magnetic DOS Image*"
   ]
  },
  {
   "cell_type": "code",
   "execution_count": 7,
   "metadata": {},
   "outputs": [
    {
     "name": "stdout",
     "output_type": "stream",
     "text": [
      "Found 119 images belonging to 1 classes.\n"
     ]
    },
    {
     "name": "stdout",
     "output_type": "stream",
     "text": [
      "1198 randomly transformed data located in Data_Preprocessing/data_by_imagedatagenerator/Fe_NM/Non_Magnetic\n"
     ]
    }
   ],
   "source": [
    "data_all=transform_data(DataFeNM_classNM,save_dir_DataFeNM_classNM,batch_size,target_size)"
   ]
  },
  {
   "cell_type": "markdown",
   "metadata": {},
   "source": [
    "*Generate Data For Testing Only*"
   ]
  },
  {
   "cell_type": "code",
   "execution_count": 24,
   "metadata": {},
   "outputs": [
    {
     "name": "stdout",
     "output_type": "stream",
     "text": [
      "Found 1 images belonging to 1 classes.\n",
      "About 1 randomly transformed data located in Data_Preprocessing/data_all/Fe_NM/testing_data\n"
     ]
    },
    {
     "data": {
      "text/plain": [
       "<keras.src.legacy.preprocessing.image.DirectoryIterator at 0x18332bffa30>"
      ]
     },
     "execution_count": 24,
     "metadata": {},
     "output_type": "execute_result"
    }
   ],
   "source": [
    "source_dir='Data_Preprocessing/data_all/Fe_NM/original'\n",
    "save_dir_test_data='Data_Preprocessing/data_all/Fe_NM/testing_data'\n",
    "testing_data(source_dir,save_dir_test_data,1,target_size)"
   ]
  },
  {
   "cell_type": "code",
   "execution_count": 8,
   "metadata": {},
   "outputs": [],
   "source": [
    "dir_list = os.listdir(imagedatagenerator_path) \n",
    "LABELS=['Ferromagnetic', 'Non_Magnetic'] \n",
    "data=[]\n",
    "labels=[]\n",
    "for label in dir_list:\n",
    "    if label in LABELS:\n",
    "        all_image_path=imagedatagenerator_path+'/'+label\n",
    "        for imagefile in os.listdir(all_image_path):\n",
    "            imagepath=all_image_path+'/'+imagefile\n",
    "            image = cv2.imread(imagepath,cv2.IMREAD_GRAYSCALE)\n",
    "\n",
    "            data.append(image)\n",
    "            labels.append(label)"
   ]
  },
  {
   "cell_type": "code",
   "execution_count": 9,
   "metadata": {},
   "outputs": [],
   "source": [
    "data = np.array(data, dtype=\"float\") / 255.0\n",
    "lb = LabelBinarizer()\n",
    "labels_ = lb.fit_transform(labels)\n"
   ]
  },
  {
   "cell_type": "code",
   "execution_count": 11,
   "metadata": {},
   "outputs": [],
   "source": [
    "train_test_split_dir='Data_Preprocessing/training_data_numpy_format/Fe_NM'\n",
    "(trainX, valX, trainY, valY) = train_test_split(data, labels_,\n",
    "\ttest_size=0.25, stratify=labels, random_state=42)\n",
    "trainX=trainX.reshape(trainX.shape[0],target_size,target_size,1)\n",
    "valX=valX.reshape(valX.shape[0],target_size,target_size,1)\n",
    "np.save(train_test_split_dir+'/trainX',trainX)\n",
    "np.save(train_test_split_dir+'/trainY',trainY)\n",
    "np.save(train_test_split_dir+'/valX',valX)\n",
    "np.save(train_test_split_dir+'/valY',valY)"
   ]
  }
 ],
 "metadata": {
  "kernelspec": {
   "display_name": "venv",
   "language": "python",
   "name": "python3"
  },
  "language_info": {
   "codemirror_mode": {
    "name": "ipython",
    "version": 3
   },
   "file_extension": ".py",
   "mimetype": "text/x-python",
   "name": "python",
   "nbconvert_exporter": "python",
   "pygments_lexer": "ipython3",
   "version": "3.9.10"
  }
 },
 "nbformat": 4,
 "nbformat_minor": 2
}
